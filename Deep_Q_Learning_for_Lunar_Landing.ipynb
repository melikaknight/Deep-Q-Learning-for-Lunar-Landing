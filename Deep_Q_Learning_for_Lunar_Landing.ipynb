{
  "cells": [
    {
      "cell_type": "markdown",
      "metadata": {
        "id": "LbZcI9ZXHl3a"
      },
      "source": [
        "# Deep Q-Learning for Lunar Landing"
      ]
    },
    {
      "cell_type": "markdown",
      "metadata": {
        "id": "E8yPRjteXgPb"
      },
      "source": [
        "## Part 0 - Installing the required packages and importing the libraries"
      ]
    },
    {
      "cell_type": "markdown",
      "metadata": {
        "id": "slEm5teGWjWU"
      },
      "source": [
        "### Installing Gymnasium"
      ]
    },
    {
      "cell_type": "code",
      "execution_count": 2,
      "metadata": {
        "id": "dbnq3XpoKa_7",
        "colab": {
          "base_uri": "https://localhost:8080/"
        },
        "outputId": "df0f1002-766b-46a5-cf5c-fdaf0511273e"
      },
      "outputs": [
        {
          "output_type": "stream",
          "name": "stdout",
          "text": [
            "Collecting gymnasium\n",
            "  Downloading gymnasium-0.29.1-py3-none-any.whl.metadata (10 kB)\n",
            "Requirement already satisfied: numpy>=1.21.0 in /usr/local/lib/python3.10/dist-packages (from gymnasium) (1.26.4)\n",
            "Requirement already satisfied: cloudpickle>=1.2.0 in /usr/local/lib/python3.10/dist-packages (from gymnasium) (2.2.1)\n",
            "Requirement already satisfied: typing-extensions>=4.3.0 in /usr/local/lib/python3.10/dist-packages (from gymnasium) (4.12.2)\n",
            "Collecting farama-notifications>=0.0.1 (from gymnasium)\n",
            "  Downloading Farama_Notifications-0.0.4-py3-none-any.whl.metadata (558 bytes)\n",
            "Downloading gymnasium-0.29.1-py3-none-any.whl (953 kB)\n",
            "\u001b[2K   \u001b[90m━━━━━━━━━━━━━━━━━━━━━━━━━━━━━━━━━━━━━━━━\u001b[0m \u001b[32m953.9/953.9 kB\u001b[0m \u001b[31m6.4 MB/s\u001b[0m eta \u001b[36m0:00:00\u001b[0m\n",
            "\u001b[?25hDownloading Farama_Notifications-0.0.4-py3-none-any.whl (2.5 kB)\n",
            "Installing collected packages: farama-notifications, gymnasium\n",
            "Successfully installed farama-notifications-0.0.4 gymnasium-0.29.1\n",
            "Requirement already satisfied: gymnasium[accept-rom-license,atari] in /usr/local/lib/python3.10/dist-packages (0.29.1)\n",
            "Requirement already satisfied: numpy>=1.21.0 in /usr/local/lib/python3.10/dist-packages (from gymnasium[accept-rom-license,atari]) (1.26.4)\n",
            "Requirement already satisfied: cloudpickle>=1.2.0 in /usr/local/lib/python3.10/dist-packages (from gymnasium[accept-rom-license,atari]) (2.2.1)\n",
            "Requirement already satisfied: typing-extensions>=4.3.0 in /usr/local/lib/python3.10/dist-packages (from gymnasium[accept-rom-license,atari]) (4.12.2)\n",
            "Requirement already satisfied: farama-notifications>=0.0.1 in /usr/local/lib/python3.10/dist-packages (from gymnasium[accept-rom-license,atari]) (0.0.4)\n",
            "Collecting autorom~=0.4.2 (from autorom[accept-rom-license]~=0.4.2; extra == \"accept-rom-license\"->gymnasium[accept-rom-license,atari])\n",
            "  Downloading AutoROM-0.4.2-py3-none-any.whl.metadata (2.8 kB)\n",
            "Collecting shimmy<1.0,>=0.1.0 (from shimmy[atari]<1.0,>=0.1.0; extra == \"atari\"->gymnasium[accept-rom-license,atari])\n",
            "  Downloading Shimmy-0.2.1-py3-none-any.whl.metadata (2.3 kB)\n",
            "Requirement already satisfied: click in /usr/local/lib/python3.10/dist-packages (from autorom~=0.4.2->autorom[accept-rom-license]~=0.4.2; extra == \"accept-rom-license\"->gymnasium[accept-rom-license,atari]) (8.1.7)\n",
            "Requirement already satisfied: requests in /usr/local/lib/python3.10/dist-packages (from autorom~=0.4.2->autorom[accept-rom-license]~=0.4.2; extra == \"accept-rom-license\"->gymnasium[accept-rom-license,atari]) (2.32.3)\n",
            "Requirement already satisfied: tqdm in /usr/local/lib/python3.10/dist-packages (from autorom~=0.4.2->autorom[accept-rom-license]~=0.4.2; extra == \"accept-rom-license\"->gymnasium[accept-rom-license,atari]) (4.66.5)\n",
            "Collecting AutoROM.accept-rom-license (from autorom[accept-rom-license]~=0.4.2; extra == \"accept-rom-license\"->gymnasium[accept-rom-license,atari])\n",
            "  Downloading AutoROM.accept-rom-license-0.6.1.tar.gz (434 kB)\n",
            "\u001b[2K     \u001b[90m━━━━━━━━━━━━━━━━━━━━━━━━━━━━━━━━━━━━━━━━\u001b[0m \u001b[32m434.7/434.7 kB\u001b[0m \u001b[31m3.6 MB/s\u001b[0m eta \u001b[36m0:00:00\u001b[0m\n",
            "\u001b[?25h  Installing build dependencies ... \u001b[?25l\u001b[?25hdone\n",
            "  Getting requirements to build wheel ... \u001b[?25l\u001b[?25hdone\n",
            "  Preparing metadata (pyproject.toml) ... \u001b[?25l\u001b[?25hdone\n",
            "Collecting ale-py~=0.8.1 (from shimmy[atari]<1.0,>=0.1.0; extra == \"atari\"->gymnasium[accept-rom-license,atari])\n",
            "  Downloading ale_py-0.8.1-cp310-cp310-manylinux_2_17_x86_64.manylinux2014_x86_64.whl.metadata (8.1 kB)\n",
            "Requirement already satisfied: importlib-resources in /usr/local/lib/python3.10/dist-packages (from ale-py~=0.8.1->shimmy[atari]<1.0,>=0.1.0; extra == \"atari\"->gymnasium[accept-rom-license,atari]) (6.4.4)\n",
            "Requirement already satisfied: charset-normalizer<4,>=2 in /usr/local/lib/python3.10/dist-packages (from requests->autorom~=0.4.2->autorom[accept-rom-license]~=0.4.2; extra == \"accept-rom-license\"->gymnasium[accept-rom-license,atari]) (3.3.2)\n",
            "Requirement already satisfied: idna<4,>=2.5 in /usr/local/lib/python3.10/dist-packages (from requests->autorom~=0.4.2->autorom[accept-rom-license]~=0.4.2; extra == \"accept-rom-license\"->gymnasium[accept-rom-license,atari]) (3.8)\n",
            "Requirement already satisfied: urllib3<3,>=1.21.1 in /usr/local/lib/python3.10/dist-packages (from requests->autorom~=0.4.2->autorom[accept-rom-license]~=0.4.2; extra == \"accept-rom-license\"->gymnasium[accept-rom-license,atari]) (2.0.7)\n",
            "Requirement already satisfied: certifi>=2017.4.17 in /usr/local/lib/python3.10/dist-packages (from requests->autorom~=0.4.2->autorom[accept-rom-license]~=0.4.2; extra == \"accept-rom-license\"->gymnasium[accept-rom-license,atari]) (2024.8.30)\n",
            "Downloading AutoROM-0.4.2-py3-none-any.whl (16 kB)\n",
            "Downloading Shimmy-0.2.1-py3-none-any.whl (25 kB)\n",
            "Downloading ale_py-0.8.1-cp310-cp310-manylinux_2_17_x86_64.manylinux2014_x86_64.whl (1.7 MB)\n",
            "\u001b[2K   \u001b[90m━━━━━━━━━━━━━━━━━━━━━━━━━━━━━━━━━━━━━━━━\u001b[0m \u001b[32m1.7/1.7 MB\u001b[0m \u001b[31m24.8 MB/s\u001b[0m eta \u001b[36m0:00:00\u001b[0m\n",
            "\u001b[?25hBuilding wheels for collected packages: AutoROM.accept-rom-license\n",
            "  Building wheel for AutoROM.accept-rom-license (pyproject.toml) ... \u001b[?25l\u001b[?25hdone\n",
            "  Created wheel for AutoROM.accept-rom-license: filename=AutoROM.accept_rom_license-0.6.1-py3-none-any.whl size=446661 sha256=8cb70838f55bfc140d55e3119c8a2489d9992a74d0b4e9cb7ead5a9c2c155858\n",
            "  Stored in directory: /root/.cache/pip/wheels/6b/1b/ef/a43ff1a2f1736d5711faa1ba4c1f61be1131b8899e6a057811\n",
            "Successfully built AutoROM.accept-rom-license\n",
            "Installing collected packages: ale-py, shimmy, AutoROM.accept-rom-license, autorom\n",
            "Successfully installed AutoROM.accept-rom-license-0.6.1 ale-py-0.8.1 autorom-0.4.2 shimmy-0.2.1\n",
            "Reading package lists... Done\n",
            "Building dependency tree... Done\n",
            "Reading state information... Done\n",
            "The following additional packages will be installed:\n",
            "  swig4.0\n",
            "Suggested packages:\n",
            "  swig-doc swig-examples swig4.0-examples swig4.0-doc\n",
            "The following NEW packages will be installed:\n",
            "  swig swig4.0\n",
            "0 upgraded, 2 newly installed, 0 to remove and 49 not upgraded.\n",
            "Need to get 1,116 kB of archives.\n",
            "After this operation, 5,542 kB of additional disk space will be used.\n",
            "Get:1 http://archive.ubuntu.com/ubuntu jammy/universe amd64 swig4.0 amd64 4.0.2-1ubuntu1 [1,110 kB]\n",
            "Get:2 http://archive.ubuntu.com/ubuntu jammy/universe amd64 swig all 4.0.2-1ubuntu1 [5,632 B]\n",
            "Fetched 1,116 kB in 2s (474 kB/s)\n",
            "Selecting previously unselected package swig4.0.\n",
            "(Reading database ... 123597 files and directories currently installed.)\n",
            "Preparing to unpack .../swig4.0_4.0.2-1ubuntu1_amd64.deb ...\n",
            "Unpacking swig4.0 (4.0.2-1ubuntu1) ...\n",
            "Selecting previously unselected package swig.\n",
            "Preparing to unpack .../swig_4.0.2-1ubuntu1_all.deb ...\n",
            "Unpacking swig (4.0.2-1ubuntu1) ...\n",
            "Setting up swig4.0 (4.0.2-1ubuntu1) ...\n",
            "Setting up swig (4.0.2-1ubuntu1) ...\n",
            "Processing triggers for man-db (2.10.2-1) ...\n",
            "Requirement already satisfied: gymnasium[box2d] in /usr/local/lib/python3.10/dist-packages (0.29.1)\n",
            "Requirement already satisfied: numpy>=1.21.0 in /usr/local/lib/python3.10/dist-packages (from gymnasium[box2d]) (1.26.4)\n",
            "Requirement already satisfied: cloudpickle>=1.2.0 in /usr/local/lib/python3.10/dist-packages (from gymnasium[box2d]) (2.2.1)\n",
            "Requirement already satisfied: typing-extensions>=4.3.0 in /usr/local/lib/python3.10/dist-packages (from gymnasium[box2d]) (4.12.2)\n",
            "Requirement already satisfied: farama-notifications>=0.0.1 in /usr/local/lib/python3.10/dist-packages (from gymnasium[box2d]) (0.0.4)\n",
            "Collecting box2d-py==2.3.5 (from gymnasium[box2d])\n",
            "  Downloading box2d-py-2.3.5.tar.gz (374 kB)\n",
            "\u001b[2K     \u001b[90m━━━━━━━━━━━━━━━━━━━━━━━━━━━━━━━━━━━━━━━━\u001b[0m \u001b[32m374.4/374.4 kB\u001b[0m \u001b[31m3.4 MB/s\u001b[0m eta \u001b[36m0:00:00\u001b[0m\n",
            "\u001b[?25h  Preparing metadata (setup.py) ... \u001b[?25l\u001b[?25hdone\n",
            "Requirement already satisfied: pygame>=2.1.3 in /usr/local/lib/python3.10/dist-packages (from gymnasium[box2d]) (2.6.0)\n",
            "Collecting swig==4.* (from gymnasium[box2d])\n",
            "  Downloading swig-4.2.1-py2.py3-none-manylinux_2_5_x86_64.manylinux1_x86_64.whl.metadata (3.6 kB)\n",
            "Downloading swig-4.2.1-py2.py3-none-manylinux_2_5_x86_64.manylinux1_x86_64.whl (1.9 MB)\n",
            "\u001b[2K   \u001b[90m━━━━━━━━━━━━━━━━━━━━━━━━━━━━━━━━━━━━━━━━\u001b[0m \u001b[32m1.9/1.9 MB\u001b[0m \u001b[31m25.6 MB/s\u001b[0m eta \u001b[36m0:00:00\u001b[0m\n",
            "\u001b[?25hBuilding wheels for collected packages: box2d-py\n",
            "  Building wheel for box2d-py (setup.py) ... \u001b[?25l\u001b[?25hdone\n",
            "  Created wheel for box2d-py: filename=box2d_py-2.3.5-cp310-cp310-linux_x86_64.whl size=2349116 sha256=266eeee6f22162a5bcaf75405c38f31a9259acbf8e7816aa5ed839776f0234dd\n",
            "  Stored in directory: /root/.cache/pip/wheels/db/8f/6a/eaaadf056fba10a98d986f6dce954e6201ba3126926fc5ad9e\n",
            "Successfully built box2d-py\n",
            "Installing collected packages: swig, box2d-py\n",
            "Successfully installed box2d-py-2.3.5 swig-4.2.1\n"
          ]
        }
      ],
      "source": [
        "!pip install gymnasium\n",
        "!pip install \"gymnasium[atari, accept-rom-license]\"\n",
        "!apt-get install -y swig\n",
        "!pip install gymnasium[box2d]"
      ]
    },
    {
      "cell_type": "markdown",
      "metadata": {
        "id": "brqiMN3UW9T9"
      },
      "source": [
        "### Importing the libraries"
      ]
    },
    {
      "cell_type": "code",
      "execution_count": 3,
      "metadata": {
        "id": "mZaKXP_aMl9O"
      },
      "outputs": [],
      "source": [
        "import os\n",
        "import random\n",
        "import numpy as np\n",
        "import torch\n",
        "import torch.nn as nn\n",
        "import torch.optim as optim\n",
        "import torch.nn.functional as F\n",
        "import torch.autograd as autograd\n",
        "from torch.autograd import Variable\n",
        "from collections import deque, namedtuple"
      ]
    },
    {
      "cell_type": "markdown",
      "metadata": {
        "id": "EzlDKXvkXzGI"
      },
      "source": [
        "## Part 1 - Building the AI"
      ]
    },
    {
      "cell_type": "markdown",
      "metadata": {
        "id": "UtG6Zc83YYy3"
      },
      "source": [
        "### Creating the architecture of the Neural Network"
      ]
    },
    {
      "cell_type": "code",
      "source": [
        "# @title Default title text\n",
        "class Network (nn.Module):\n",
        "    def __init__(self, state_size, action_size, seed=42):\n",
        "        super(Network, self).__init__()\n",
        "        self.seed= torch.manual_seed(seed)\n",
        "        self.fc1 = nn.Linear(state_size, 64)\n",
        "        self.fc2 = nn.Linear(64, 64)\n",
        "        self.fc3 = nn.Linear(64, action_size)\n",
        "\n",
        "    def forward(self,state):\n",
        "        x = self.fc1(state)\n",
        "        x = F.relu(x)\n",
        "        x = self.fc2(x)\n",
        "        x = F.relu(x)\n",
        "        return self.fc3(x)\n",
        "\n",
        "\n",
        ""
      ],
      "metadata": {
        "id": "zT1ZVeAf_2uF"
      },
      "execution_count": 4,
      "outputs": []
    },
    {
      "cell_type": "markdown",
      "metadata": {
        "id": "UxVrBnFWZKb1"
      },
      "source": [
        "## Part 2 - Training the AI"
      ]
    },
    {
      "cell_type": "markdown",
      "metadata": {
        "id": "T364fz9qZb2j"
      },
      "source": [
        "### Setting up the environment"
      ]
    },
    {
      "cell_type": "code",
      "source": [
        "import gymnasium as gym\n",
        "env =gym.make('LunarLander-v2')\n",
        "state_shape = env.observation_space.shape\n",
        "state_size = env.observation_space.shape[0]\n",
        "number_actions =env.action_space.n\n",
        "print('State shape: ',state_shape)\n",
        "print('State size: ',state_size)\n",
        "print('Number of actions: ',number_actions)\n"
      ],
      "metadata": {
        "colab": {
          "base_uri": "https://localhost:8080/"
        },
        "id": "-RIp_1AgHlqI",
        "outputId": "08b78115-7e27-4682-8ab8-47f5efa81703"
      },
      "execution_count": 5,
      "outputs": [
        {
          "output_type": "stream",
          "name": "stdout",
          "text": [
            "State shape:  (8,)\n",
            "State size:  8\n",
            "Number of actions:  4\n"
          ]
        }
      ]
    },
    {
      "cell_type": "markdown",
      "metadata": {
        "id": "c_dZmOIvZgj-"
      },
      "source": [
        "### Initializing the hyperparameters"
      ]
    },
    {
      "cell_type": "code",
      "source": [
        "learning_rate = 5e-4\n",
        "minibatch_size = 100\n",
        "discount_factor = 0.99\n",
        "replay_buffer_size = int(1e5)\n",
        "interpolation_parameter =1e-3"
      ],
      "metadata": {
        "colab": {
          "base_uri": "https://localhost:8080/"
        },
        "id": "S0-vx3RZI2vK",
        "outputId": "b372c30c-f35a-4898-e436-3f7b5c5597d4"
      },
      "execution_count": 6,
      "outputs": [
        {
          "output_type": "stream",
          "name": "stderr",
          "text": [
            "/usr/local/lib/python3.10/dist-packages/ipykernel/ipkernel.py:283: DeprecationWarning: `should_run_async` will not call `transform_cell` automatically in the future. Please pass the result to `transformed_cell` argument and any exception that happen during thetransform in `preprocessing_exc_tuple` in IPython 7.17 and above.\n",
            "  and should_run_async(code)\n"
          ]
        }
      ]
    },
    {
      "cell_type": "markdown",
      "metadata": {
        "id": "8hD_Vs-bYnip"
      },
      "source": [
        "### Implementing Experience Replay"
      ]
    },
    {
      "cell_type": "code",
      "source": [
        "class ReplayMemory(object):\n",
        "\n",
        "    def __init__(self,capacity) :\n",
        "        self.device = torch.device(\"cuda:0\" if torch.cuda.is_available() else \"cpu\")\n",
        "        self.capacity = capacity\n",
        "        self.memory= []\n",
        "\n",
        "    def push(self, event):\n",
        "        self.memory.append(event)\n",
        "        if len(self.memory)> self.capacity:\n",
        "            del self.memory[0]\n",
        "\n",
        "    def sample(self,batch_size):\n",
        "        experiences = random.sample(self.memory, k=batch_size)\n",
        "        states = torch.from_numpy(np.vstack([e[0] for e in experiences if e is not None])).float().to(self.device)\n",
        "        actions = torch.from_numpy(np.vstack([e[1] for e in experiences if e is not None])).long().to(self.device)\n",
        "        rewards = torch.from_numpy(np.vstack([e[2] for e in experiences if e is not None])).float().to(self.device)\n",
        "        next_states = torch.from_numpy(np.vstack([e[3] for e in experiences if e is not None])).float().to(self.device)\n",
        "        dones = torch.from_numpy(np.vstack([e[4] for e in experiences if e is not None]).astype(np.uint8)).float().to(self.device)\n",
        "        return states, next_states, actions, rewards, dones\n",
        "\n",
        "\n",
        "\n"
      ],
      "metadata": {
        "id": "-Y7YigcAKEJp"
      },
      "execution_count": 7,
      "outputs": []
    },
    {
      "cell_type": "markdown",
      "metadata": {
        "id": "JmEkbFbUY6Jt"
      },
      "source": [
        "### Implementing the DQN class"
      ]
    },
    {
      "cell_type": "code",
      "source": [
        "class Agent():\n",
        "    def __init__(self,state_size,action_size):\n",
        "        self.device = torch.device(\"cuda:0\" if torch.cuda.is_available() else \"cpu\")\n",
        "        self.state_size = state_size\n",
        "        self.action_size = action_size\n",
        "        self.local_qnetwork = Network(state_size,action_size).to(self.device)\n",
        "        self.target_qnetwork = Network(state_size,action_size).to(self.device)\n",
        "        self.optimizer = optim.Adam(self.local_qnetwork.parameters(),lr=learning_rate)\n",
        "        self.memory = ReplayMemory(replay_buffer_size)\n",
        "        self.t_step=0\n",
        "\n",
        "    def step(self, state, actoin, reward, next_state, done):\n",
        "        self.memory.push((state, actoin, reward, next_state, done))\n",
        "        self.t_step = (self.t_step + 1) % 4\n",
        "        if self.t_step == 0:\n",
        "            if len(self.memory.memory)> minibatch_size:\n",
        "                experiences = self.memory.sample(100)\n",
        "                self.learn(experiences, discount_factor)\n",
        "\n",
        "    def act(self, state, epsilon = 0.):\n",
        "        state = torch.from_numpy(state).float().unsqueeze(0).to(self.device)\n",
        "        self.local_qnetwork.eval()\n",
        "        with torch.no_grad():\n",
        "            action_values = self.local_qnetwork(state)\n",
        "        self.local_qnetwork.train()\n",
        "        if random.random() > epsilon:\n",
        "            return np.argmax(action_values.cpu().data.numpy())\n",
        "        else:\n",
        "            return random.choice(np.arange(self.action_size))\n",
        "\n",
        "    def learn(self, experiences, discount_factor):\n",
        "        states, next_states, actions, rewards, dones =experiences\n",
        "        next_q_targets = self.target_qnetwork(next_states).detach().max(1)[0].unsqueeze(1)\n",
        "        q_targets = rewards + (discount_factor * next_q_targets * (1-dones))\n",
        "        q_expected = self.local_qnetwork(states).gather(1, actions)\n",
        "        loss = F.mse_loss(q_expected,q_targets)\n",
        "        self.optimizer.zero_grad()\n",
        "        loss.backward()\n",
        "        self.optimizer.step()\n",
        "        self.soft_update(self.local_qnetwork, self.target_qnetwork, interpolation_parameter)\n",
        "\n",
        "    def soft_update(self, local_model, target_model, interpolation_parameter):\n",
        "        for target_param, local_param, in zip(target_model.parameters(), local_model.parameters()):\n",
        "            target_param.data.copy_(interpolation_parameter * local_param.data + (1.0- interpolation_parameter) * target_param.data )\n",
        "\n",
        "\n"
      ],
      "metadata": {
        "id": "OQQYwhOFNsqV"
      },
      "execution_count": 24,
      "outputs": []
    },
    {
      "cell_type": "markdown",
      "metadata": {
        "id": "o1tZElccZmf6"
      },
      "source": [
        "### Initializing the DQN agent"
      ]
    },
    {
      "cell_type": "code",
      "source": [
        "agent = Agent(state_size, number_actions)"
      ],
      "metadata": {
        "id": "wiviQSD7_GAp"
      },
      "execution_count": 25,
      "outputs": []
    },
    {
      "cell_type": "markdown",
      "metadata": {
        "id": "E8v0PtUfaVQp"
      },
      "source": [
        "### Training the DQN agent"
      ]
    },
    {
      "cell_type": "code",
      "source": [
        "number_episodes = 2000\n",
        "maximum_number_timesteps_per_episode = 1000\n",
        "epsilon_starting_value = 1.0\n",
        "epsilon_ending_value = 0.01\n",
        "epsilon_decay_value = 0.995\n",
        "epsilon = epsilon_starting_value\n",
        "scores_on_100_episodes = deque(maxlen = 100)\n",
        "\n",
        "for episode in range(1, number_episodes + 1):\n",
        "  state, _ = env.reset()\n",
        "  score = 0\n",
        "  for t in range(maximum_number_timesteps_per_episode):\n",
        "    action = agent.act(state, epsilon)\n",
        "    next_state, reward, done, _, _ = env.step(action)\n",
        "    agent.step(state, action, reward, next_state, done)\n",
        "    state = next_state\n",
        "    score += reward\n",
        "    if done:\n",
        "      break\n",
        "  scores_on_100_episodes.append(score)\n",
        "  epsilon = max(epsilon_ending_value, epsilon_decay_value * epsilon)\n",
        "  print('\\rEpisode{}\\tAverage Score: {:.2f}'.format(episode, np.mean(scores_on_100_episodes )),end=\"\")\n",
        "  if episode % 100 ==0:\n",
        "      print('\\rEpisode{}\\tAverage Score: {:.2f}'.format(episode, np.mean(scores_on_100_episodes )))\n",
        "  if np.mean(scores_on_100_episodes) >= 200.0:\n",
        "      print('\\rEnvironment solved in {:d} episodes!\\tAverage Score: {:.2f}'.format(episode - 100, np.mean(scores_on_100_episodes )))\n",
        "      torch.save(agent.local_qnetwork.state_dict(),'checkpoint.pth')\n",
        "      break\n"
      ],
      "metadata": {
        "colab": {
          "base_uri": "https://localhost:8080/"
        },
        "id": "aD6CGba9_nQS",
        "outputId": "99023f15-ac64-4c52-dcd1-22fcfb08e2eb"
      },
      "execution_count": 26,
      "outputs": [
        {
          "output_type": "stream",
          "name": "stdout",
          "text": [
            "Episode100\tAverage Score: -154.74\n",
            "Episode200\tAverage Score: -94.29\n",
            "Episode300\tAverage Score: -49.46\n",
            "Episode400\tAverage Score: 25.25\n",
            "Episode500\tAverage Score: 172.24\n",
            "Environment solved in 445 episodes!\tAverage Score: 200.15\n"
          ]
        }
      ]
    },
    {
      "cell_type": "markdown",
      "metadata": {
        "id": "O8CNwdOTcCoP"
      },
      "source": [
        "## Part 3 - Visualizing the results"
      ]
    },
    {
      "cell_type": "code",
      "execution_count": 27,
      "metadata": {
        "id": "cb9nVvU2Okhk",
        "colab": {
          "base_uri": "https://localhost:8080/",
          "height": 459
        },
        "outputId": "405c5bb6-5bb9-469d-be23-0f4dc23c4c78"
      },
      "outputs": [
        {
          "output_type": "stream",
          "name": "stderr",
          "text": [
            "WARNING:imageio_ffmpeg:IMAGEIO FFMPEG_WRITER WARNING: input image is not divisible by macro_block_size=16, resizing from (600, 400) to (608, 400) to ensure video compatibility with most codecs and players. To prevent resizing, make your input image divisible by the macro_block_size or set the macro_block_size to 1 (risking incompatibility).\n"
          ]
        },
        {
          "output_type": "display_data",
          "data": {
            "text/plain": [
              "<IPython.core.display.HTML object>"
            ],
            "text/html": [
              "<video alt=\"test\" autoplay\n",
              "                loop controls style=\"height: 400px;\">\n",
              "                <source src=\"data:video/mp4;base64,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\" type=\"video/mp4\" />\n",
              "             </video>"
            ]
          },
          "metadata": {}
        }
      ],
      "source": [
        "import glob\n",
        "import io\n",
        "import base64\n",
        "import imageio\n",
        "from IPython.display import HTML, display\n",
        "from gym.wrappers.monitoring.video_recorder import VideoRecorder\n",
        "\n",
        "def show_video_of_model(agent, env_name):\n",
        "    env = gym.make(env_name, render_mode='rgb_array')\n",
        "    state, _ = env.reset()\n",
        "    done = False\n",
        "    frames = []\n",
        "    while not done:\n",
        "        frame = env.render()\n",
        "        frames.append(frame)\n",
        "        action = agent.act(state)\n",
        "        state, reward, done, _, _ = env.step(action.item())\n",
        "    env.close()\n",
        "    imageio.mimsave('video.mp4', frames, fps=30)\n",
        "\n",
        "show_video_of_model(agent, 'LunarLander-v2')\n",
        "\n",
        "def show_video():\n",
        "    mp4list = glob.glob('*.mp4')\n",
        "    if len(mp4list) > 0:\n",
        "        mp4 = mp4list[0]\n",
        "        video = io.open(mp4, 'r+b').read()\n",
        "        encoded = base64.b64encode(video)\n",
        "        display(HTML(data='''<video alt=\"test\" autoplay\n",
        "                loop controls style=\"height: 400px;\">\n",
        "                <source src=\"data:video/mp4;base64,{0}\" type=\"video/mp4\" />\n",
        "             </video>'''.format(encoded.decode('ascii'))))\n",
        "    else:\n",
        "        print(\"Could not find video\")\n",
        "\n",
        "show_video()"
      ]
    }
  ],
  "metadata": {
    "colab": {
      "provenance": []
    },
    "kernelspec": {
      "display_name": "Python 3",
      "name": "python3"
    },
    "language_info": {
      "name": "python"
    }
  },
  "nbformat": 4,
  "nbformat_minor": 0
}